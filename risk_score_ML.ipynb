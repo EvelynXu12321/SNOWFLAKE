{
 "cells": [
  {
   "cell_type": "code",
   "execution_count": 8,
   "metadata": {},
   "outputs": [],
   "source": [
    "import pandas as pd\n",
    "import geopandas as gpd\n",
    "from shapely.geometry import Point"
   ]
  },
  {
   "cell_type": "code",
   "execution_count": 9,
   "metadata": {},
   "outputs": [],
   "source": [
    "# Load facilities data\n",
    "facilities_df = pd.read_csv('facilities_with_risk_scores.csv')"
   ]
  },
  {
   "cell_type": "code",
   "execution_count": 10,
   "metadata": {},
   "outputs": [],
   "source": [
    "# Convert facilities to GeoDataFrame\n",
    "facilities_gdf = gpd.GeoDataFrame(\n",
    "    facilities_df,\n",
    "    geometry=gpd.points_from_xy(facilities_df.longitude, facilities_df.latitude),\n",
    "    crs='EPSG:4326'  # WGS84 Latitude/Longitude\n",
    ")"
   ]
  },
  {
   "cell_type": "code",
   "execution_count": 11,
   "metadata": {},
   "outputs": [],
   "source": [
    "# Load coastline shapefile\n",
    "coastline_gdf = gpd.read_file('/Users/prachiheda/Desktop/Florida_Shoreline_(1_to_2%2C000%2C000_Scale)/Florida_Shoreline_(1_to_2%2C000%2C000_Scale).shp')  # Replace with actual path\n"
   ]
  },
  {
   "cell_type": "code",
   "execution_count": 12,
   "metadata": {},
   "outputs": [],
   "source": [
    "# Ensure both are in the same coordinate reference system\n",
    "facilities_gdf = facilities_gdf.to_crs(coastline_gdf.crs)"
   ]
  },
  {
   "cell_type": "code",
   "execution_count": 13,
   "metadata": {},
   "outputs": [],
   "source": [
    "# Calculate distance to coastline\n",
    "facilities_gdf['distance_to_coast_km'] = facilities_gdf.geometry.apply(\n",
    "    lambda x: coastline_gdf.distance(x).min() / 1000  # Convert meters to kilometers\n",
    ")"
   ]
  },
  {
   "cell_type": "code",
   "execution_count": 20,
   "metadata": {},
   "outputs": [],
   "source": [
    "# Load hurricane data into a DataFrame\n",
    "hurricane_data = pd.read_csv('HURDAT2_hurricane_data_with_events.csv')\n"
   ]
  },
  {
   "cell_type": "code",
   "execution_count": 21,
   "metadata": {},
   "outputs": [],
   "source": [
    "# Drop rows with missing latitude or longitude\n",
    "hurricane_data = hurricane_data.dropna(subset=['latitude', 'longitude'])\n"
   ]
  },
  {
   "cell_type": "code",
   "execution_count": 22,
   "metadata": {},
   "outputs": [],
   "source": [
    "# Convert latitude and longitude to numeric, coercing errors to NaN\n",
    "hurricane_data['latitude'] = pd.to_numeric(hurricane_data['latitude'], errors='coerce')\n",
    "hurricane_data['longitude'] = pd.to_numeric(hurricane_data['longitude'], errors='coerce')\n"
   ]
  },
  {
   "cell_type": "code",
   "execution_count": 23,
   "metadata": {},
   "outputs": [],
   "source": [
    "# Convert the DataFrame into a GeoDataFrame\n",
    "hurricane_gdf = gpd.GeoDataFrame(\n",
    "    hurricane_data,\n",
    "    geometry=gpd.points_from_xy(hurricane_data['longitude'], hurricane_data['latitude']),\n",
    "    crs='EPSG:4326'  # WGS84 Latitude/Longitude\n",
    ")\n"
   ]
  },
  {
   "cell_type": "code",
   "execution_count": 24,
   "metadata": {},
   "outputs": [
    {
     "name": "stdout",
     "output_type": "stream",
     "text": [
      "   storm_id storm_name      date  time record_id event_label status  latitude  \\\n",
      "0  AL011851    UNNAMED  18510625     0       NaN         NaN     HU      28.0   \n",
      "1  AL011851    UNNAMED  18510625   600       NaN         NaN     HU      28.0   \n",
      "2  AL011851    UNNAMED  18510625  1200       NaN         NaN     HU      28.0   \n",
      "3  AL011851    UNNAMED  18510625  1800       NaN         NaN     HU      28.1   \n",
      "4  AL011851    UNNAMED  18510625  2100         L    Landfall     HU      28.2   \n",
      "\n",
      "   longitude  max_wind  min_pressure            geometry  \n",
      "0      -94.8        80          -999    POINT (-94.8 28)  \n",
      "1      -95.4        80          -999    POINT (-95.4 28)  \n",
      "2      -96.0        80          -999      POINT (-96 28)  \n",
      "3      -96.5        80          -999  POINT (-96.5 28.1)  \n",
      "4      -96.8        80          -999  POINT (-96.8 28.2)  \n",
      "CRS: EPSG:4326\n"
     ]
    }
   ],
   "source": [
    "# View the first few rows\n",
    "print(hurricane_gdf.head())\n",
    "\n",
    "# Check the coordinate reference system (CRS)\n",
    "print(\"CRS:\", hurricane_gdf.crs)\n"
   ]
  },
  {
   "cell_type": "code",
   "execution_count": 25,
   "metadata": {},
   "outputs": [],
   "source": [
    "# Reproject hurricane_gdf to a projected CRS\n",
    "hurricane_gdf_projected = hurricane_gdf.to_crs(epsg=3086)"
   ]
  },
  {
   "cell_type": "code",
   "execution_count": 26,
   "metadata": {},
   "outputs": [],
   "source": [
    "# Define buffer distance in meters\n",
    "buffer_distance = 50000  # 50 km\n",
    "\n",
    "# Perform the buffering operation\n",
    "hurricane_gdf_projected['geometry'] = hurricane_gdf_projected.geometry.buffer(buffer_distance)\n"
   ]
  },
  {
   "cell_type": "code",
   "execution_count": 27,
   "metadata": {},
   "outputs": [],
   "source": [
    "# Spatial join to count number of hurricanes affecting each facility\n",
    "facilities_gdf = facilities_gdf.to_crs(hurricane_gdf.crs)\n",
    "facilities_gdf['hurricane_exposure'] = facilities_gdf.geometry.apply(\n",
    "    lambda x: hurricane_gdf[hurricane_gdf.geometry.contains(x)]['storm_name'].nunique()\n",
    ")"
   ]
  },
  {
   "cell_type": "code",
   "execution_count": 28,
   "metadata": {},
   "outputs": [],
   "source": [
    "# Load the county GeoJSON data\n",
    "counties_gdf = gpd.read_file('USA_Counties_(Generalized).geojson')\n"
   ]
  },
  {
   "cell_type": "code",
   "execution_count": 29,
   "metadata": {},
   "outputs": [
    {
     "name": "stdout",
     "output_type": "stream",
     "text": [
      "   FID  OBJECTID            NAME    STATE_NAME STATE_FIPS CNTY_FIPS   FIPS  \\\n",
      "0    1         1  Aleutians East        Alaska         02       013  02013   \n",
      "1    2      1201          Traill  North Dakota         38       097  38097   \n",
      "2    3      1202           Walsh  North Dakota         38       099  38099   \n",
      "3    4         2  Aleutians West        Alaska         02       016  02016   \n",
      "4    5      1203            Ward  North Dakota         38       101  38101   \n",
      "\n",
      "   POPULATION  POP_SQMI  POP2010  ...  AVE_SIZE12  CROP_ACR12  AVE_SALE12  \\\n",
      "0        3129       0.4     3141  ...         -99         -99         -99   \n",
      "1        8154       9.5     8121  ...        1170      526183      659887   \n",
      "2       11037       8.5    11119  ...         834      714525      440783   \n",
      "3        5609       1.6     5561  ...         -99         -99         -99   \n",
      "4       75147      36.6    61675  ...        1117      829363      285596   \n",
      "\n",
      "      SQMI  Shape_Leng  Shape_Area   Shape__Area  Shape__Length  \\\n",
      "0  7036.89   24.266646    2.235582  4.886230e+10   3.299975e+06   \n",
      "1   862.51    2.150449    0.266362  4.881826e+09   2.837745e+05   \n",
      "2  1294.14    3.379906    0.411900  7.683728e+09   4.117952e+05   \n",
      "3  3597.77   18.731621    0.889389  1.831491e+10   2.455085e+06   \n",
      "4  2055.85    4.408571    0.640877  1.192105e+10   5.964787e+05   \n",
      "\n",
      "                               GlobalID  \\\n",
      "0  6b0d7935-2033-4671-b447-2328bd217d3b   \n",
      "1  6d3199a6-fe70-4984-aceb-a7eceb1879a6   \n",
      "2  38365f59-6424-4cc8-876b-37efa76014c2   \n",
      "3  c1fd869c-8650-4d17-a7cb-daf73b0aa128   \n",
      "4  8e55210b-0dad-4479-afb6-5367bd3170a0   \n",
      "\n",
      "                                            geometry  \n",
      "0  MULTIPOLYGON (((-158.79841 56.80097, -159.0286...  \n",
      "1  POLYGON ((-96.83707 47.24046, -97.45339 47.244...  \n",
      "2  POLYGON ((-97.90248 48.19601, -98.29524 48.196...  \n",
      "3  MULTIPOLYGON (((-166.64522 53.52274, -166.7113...  \n",
      "4  POLYGON ((-100.96471 47.85409, -101.87778 47.8...  \n",
      "\n",
      "[5 rows x 61 columns]\n",
      "Index(['FID', 'OBJECTID', 'NAME', 'STATE_NAME', 'STATE_FIPS', 'CNTY_FIPS',\n",
      "       'FIPS', 'POPULATION', 'POP_SQMI', 'POP2010', 'POP10_SQMI', 'WHITE',\n",
      "       'BLACK', 'AMERI_ES', 'ASIAN', 'HAWN_PI', 'HISPANIC', 'OTHER',\n",
      "       'MULT_RACE', 'MALES', 'FEMALES', 'AGE_UNDER5', 'AGE_5_9', 'AGE_10_14',\n",
      "       'AGE_15_19', 'AGE_20_24', 'AGE_25_34', 'AGE_35_44', 'AGE_45_54',\n",
      "       'AGE_55_64', 'AGE_65_74', 'AGE_75_84', 'AGE_85_UP', 'MED_AGE',\n",
      "       'MED_AGE_M', 'MED_AGE_F', 'HOUSEHOLDS', 'AVE_HH_SZ', 'HSEHLD_1_M',\n",
      "       'HSEHLD_1_F', 'MARHH_CHD', 'MARHH_NO_C', 'MHH_CHILD', 'FHH_CHILD',\n",
      "       'FAMILIES', 'AVE_FAM_SZ', 'HSE_UNITS', 'VACANT', 'OWNER_OCC',\n",
      "       'RENTER_OCC', 'NO_FARMS12', 'AVE_SIZE12', 'CROP_ACR12', 'AVE_SALE12',\n",
      "       'SQMI', 'Shape_Leng', 'Shape_Area', 'Shape__Area', 'Shape__Length',\n",
      "       'GlobalID', 'geometry'],\n",
      "      dtype='object')\n"
     ]
    }
   ],
   "source": [
    "# View the first few rows\n",
    "print(counties_gdf.head())\n",
    "\n",
    "# List all column names\n",
    "print(counties_gdf.columns)"
   ]
  },
  {
   "cell_type": "code",
   "execution_count": 30,
   "metadata": {},
   "outputs": [],
   "source": [
    "# Load SVI data\n",
    "svi_df = pd.read_csv('SVI_2022_US_county.csv', dtype={'FIPS': str})\n"
   ]
  },
  {
   "cell_type": "code",
   "execution_count": 33,
   "metadata": {},
   "outputs": [],
   "source": [
    "# Ensure FIPS codes are strings with leading zeros\n",
    "svi_df['FIPS'] = svi_df['FIPS'].str.zfill(5)\n",
    "\n",
    "# Assuming the GeoDataFrame has a column named 'GEO_ID' or 'GEOID' for FIPS codes\n",
    "counties_gdf['FIPS'] = counties_gdf['GlobalID'].str[-5:]\n"
   ]
  },
  {
   "cell_type": "code",
   "execution_count": 34,
   "metadata": {},
   "outputs": [],
   "source": [
    "# Merge SVI data with counties GeoDataFrame\n",
    "merged_gdf = counties_gdf.merge(svi_df[['FIPS', 'RPL_THEMES']], on='FIPS', how='left')\n"
   ]
  },
  {
   "cell_type": "code",
   "execution_count": 35,
   "metadata": {},
   "outputs": [],
   "source": [
    "# Filter for Florida counties\n",
    "florida_gdf = merged_gdf[merged_gdf['STATE_NAME'] == 'Florida'].copy()\n"
   ]
  },
  {
   "cell_type": "code",
   "execution_count": 36,
   "metadata": {},
   "outputs": [
    {
     "name": "stdout",
     "output_type": "stream",
     "text": [
      "Index(['FID', 'OBJECTID', 'NAME', 'STATE_NAME', 'STATE_FIPS', 'CNTY_FIPS',\n",
      "       'FIPS', 'POPULATION', 'POP_SQMI', 'POP2010', 'POP10_SQMI', 'WHITE',\n",
      "       'BLACK', 'AMERI_ES', 'ASIAN', 'HAWN_PI', 'HISPANIC', 'OTHER',\n",
      "       'MULT_RACE', 'MALES', 'FEMALES', 'AGE_UNDER5', 'AGE_5_9', 'AGE_10_14',\n",
      "       'AGE_15_19', 'AGE_20_24', 'AGE_25_34', 'AGE_35_44', 'AGE_45_54',\n",
      "       'AGE_55_64', 'AGE_65_74', 'AGE_75_84', 'AGE_85_UP', 'MED_AGE',\n",
      "       'MED_AGE_M', 'MED_AGE_F', 'HOUSEHOLDS', 'AVE_HH_SZ', 'HSEHLD_1_M',\n",
      "       'HSEHLD_1_F', 'MARHH_CHD', 'MARHH_NO_C', 'MHH_CHILD', 'FHH_CHILD',\n",
      "       'FAMILIES', 'AVE_FAM_SZ', 'HSE_UNITS', 'VACANT', 'OWNER_OCC',\n",
      "       'RENTER_OCC', 'NO_FARMS12', 'AVE_SIZE12', 'CROP_ACR12', 'AVE_SALE12',\n",
      "       'SQMI', 'Shape_Leng', 'Shape_Area', 'Shape__Area', 'Shape__Length',\n",
      "       'GlobalID', 'geometry', 'RPL_THEMES'],\n",
      "      dtype='object')\n",
      "Number of Florida counties without SVI data: 67\n"
     ]
    }
   ],
   "source": [
    "# Verify the columns\n",
    "print(florida_gdf.columns)\n",
    "\n",
    "# Check for missing SVI data\n",
    "missing_svi = florida_gdf['RPL_THEMES'].isnull().sum()\n",
    "print(f\"Number of Florida counties without SVI data: {missing_svi}\")\n"
   ]
  },
  {
   "cell_type": "code",
   "execution_count": 39,
   "metadata": {},
   "outputs": [],
   "source": [
    "# Convert facilities to GeoDataFrame\n",
    "facilities_gdf = gpd.GeoDataFrame(\n",
    "    facilities_df,\n",
    "    geometry=gpd.points_from_xy(facilities_df['longitude'], facilities_df['latitude']),\n",
    "    crs='EPSG:4326'\n",
    ")"
   ]
  },
  {
   "cell_type": "code",
   "execution_count": 40,
   "metadata": {},
   "outputs": [],
   "source": [
    "# Ensure both GeoDataFrames are in the same CRS\n",
    "florida_gdf = florida_gdf.to_crs('EPSG:4326')"
   ]
  },
  {
   "cell_type": "code",
   "execution_count": 42,
   "metadata": {},
   "outputs": [],
   "source": [
    "# Perform spatial join to get SVI scores for facilities\n",
    "facilities_gdf = gpd.sjoin(\n",
    "    facilities_gdf,\n",
    "    florida_gdf[['geometry', 'RPL_THEMES']],\n",
    "    how='left'\n",
    ")"
   ]
  },
  {
   "cell_type": "code",
   "execution_count": 43,
   "metadata": {},
   "outputs": [
    {
     "data": {
      "text/plain": [
       "Index(['name', 'type', 'latitude', 'longitude', 'min_distance', 'risk_score',\n",
       "       'geometry', 'index_right', 'RPL_THEMES'],\n",
       "      dtype='object')"
      ]
     },
     "execution_count": 43,
     "metadata": {},
     "output_type": "execute_result"
    }
   ],
   "source": [
    "facilities_gdf.columns"
   ]
  },
  {
   "cell_type": "code",
   "execution_count": 44,
   "metadata": {},
   "outputs": [],
   "source": [
    "# Reproject facilities and coastline to a projected CRS suitable for distance calculation\n",
    "facilities_projected = facilities_gdf.to_crs(epsg=3086)  # NAD83 / Florida GDL Albers\n",
    "coastline_projected = coastline_gdf.to_crs(epsg=3086)"
   ]
  },
  {
   "cell_type": "code",
   "execution_count": 45,
   "metadata": {},
   "outputs": [],
   "source": [
    "# Calculate distance to coastline\n",
    "facilities_projected['distance_to_coast_m'] = facilities_projected.geometry.apply(\n",
    "    lambda x: coastline_projected.distance(x).min()\n",
    ")"
   ]
  },
  {
   "cell_type": "code",
   "execution_count": 46,
   "metadata": {},
   "outputs": [],
   "source": [
    "# Convert distance to kilometers\n",
    "facilities_projected['distance_to_coast_km'] = facilities_projected['distance_to_coast_m'] / 1000"
   ]
  },
  {
   "cell_type": "code",
   "execution_count": 47,
   "metadata": {},
   "outputs": [],
   "source": [
    "# Reproject hurricane data to projected CRS\n",
    "hurricane_gdf_projected = hurricane_gdf.to_crs(epsg=3086)"
   ]
  },
  {
   "cell_type": "code",
   "execution_count": 48,
   "metadata": {},
   "outputs": [],
   "source": [
    "# Buffer hurricane paths\n",
    "buffer_distance = 50000  # 50 km in meters\n",
    "hurricane_gdf_projected['geometry'] = hurricane_gdf_projected.geometry.buffer(buffer_distance)"
   ]
  },
  {
   "cell_type": "code",
   "execution_count": 53,
   "metadata": {},
   "outputs": [
    {
     "name": "stdout",
     "output_type": "stream",
     "text": [
      "Facilities columns: Index(['name', 'type', 'latitude', 'longitude', 'min_distance', 'risk_score',\n",
      "       'geometry', 'index_right', 'RPL_THEMES', 'distance_to_coast_m',\n",
      "       'distance_to_coast_km'],\n",
      "      dtype='object')\n",
      "Hurricane columns: Index(['storm_id', 'storm_name', 'date', 'time', 'record_id', 'event_label',\n",
      "       'status', 'latitude', 'longitude', 'max_wind', 'min_pressure',\n",
      "       'geometry'],\n",
      "      dtype='object')\n"
     ]
    }
   ],
   "source": [
    "print(\"Facilities columns:\", facilities_projected.columns)\n",
    "print(\"Hurricane columns:\", hurricane_gdf_projected.columns)"
   ]
  },
  {
   "cell_type": "code",
   "execution_count": 69,
   "metadata": {},
   "outputs": [],
   "source": [
    "# Remove 'index_right' and 'index_left' columns from facilities_projected\n",
    "facilities_projected = facilities_projected.drop(columns=['index_right', 'index_left'], errors='ignore')\n",
    "\n",
    "# Remove 'index_right' and 'index_left' columns from hurricane_gdf_projected\n",
    "hurricane_gdf_projected = hurricane_gdf_projected.drop(columns=['index_right', 'index_left'], errors='ignore')\n"
   ]
  },
  {
   "cell_type": "code",
   "execution_count": 55,
   "metadata": {},
   "outputs": [],
   "source": [
    "facilities_projected = facilities_projected.reset_index(drop=True)\n",
    "hurricane_gdf_projected = hurricane_gdf_projected.reset_index(drop=True)\n"
   ]
  },
  {
   "cell_type": "code",
   "execution_count": 64,
   "metadata": {},
   "outputs": [
    {
     "data": {
      "text/html": [
       "<div>\n",
       "<style scoped>\n",
       "    .dataframe tbody tr th:only-of-type {\n",
       "        vertical-align: middle;\n",
       "    }\n",
       "\n",
       "    .dataframe tbody tr th {\n",
       "        vertical-align: top;\n",
       "    }\n",
       "\n",
       "    .dataframe thead th {\n",
       "        text-align: right;\n",
       "    }\n",
       "</style>\n",
       "<table border=\"1\" class=\"dataframe\">\n",
       "  <thead>\n",
       "    <tr style=\"text-align: right;\">\n",
       "      <th></th>\n",
       "      <th>storm_id</th>\n",
       "      <th>storm_name</th>\n",
       "      <th>date</th>\n",
       "      <th>time</th>\n",
       "      <th>record_id</th>\n",
       "      <th>event_label</th>\n",
       "      <th>status</th>\n",
       "      <th>latitude</th>\n",
       "      <th>longitude</th>\n",
       "      <th>max_wind</th>\n",
       "      <th>min_pressure</th>\n",
       "      <th>geometry</th>\n",
       "    </tr>\n",
       "  </thead>\n",
       "  <tbody>\n",
       "    <tr>\n",
       "      <th>0</th>\n",
       "      <td>AL011851</td>\n",
       "      <td>UNNAMED</td>\n",
       "      <td>18510625</td>\n",
       "      <td>0</td>\n",
       "      <td>NaN</td>\n",
       "      <td>NaN</td>\n",
       "      <td>HU</td>\n",
       "      <td>28.0</td>\n",
       "      <td>-94.8</td>\n",
       "      <td>80</td>\n",
       "      <td>-999</td>\n",
       "      <td>POLYGON ((-608696.456 490186.163, -608937.22 4...</td>\n",
       "    </tr>\n",
       "    <tr>\n",
       "      <th>1</th>\n",
       "      <td>AL011851</td>\n",
       "      <td>UNNAMED</td>\n",
       "      <td>18510625</td>\n",
       "      <td>600</td>\n",
       "      <td>NaN</td>\n",
       "      <td>NaN</td>\n",
       "      <td>HU</td>\n",
       "      <td>28.0</td>\n",
       "      <td>-95.4</td>\n",
       "      <td>80</td>\n",
       "      <td>-999</td>\n",
       "      <td>POLYGON ((-667349.703 495480.069, -667590.467 ...</td>\n",
       "    </tr>\n",
       "    <tr>\n",
       "      <th>2</th>\n",
       "      <td>AL011851</td>\n",
       "      <td>UNNAMED</td>\n",
       "      <td>18510625</td>\n",
       "      <td>1200</td>\n",
       "      <td>NaN</td>\n",
       "      <td>NaN</td>\n",
       "      <td>HU</td>\n",
       "      <td>28.0</td>\n",
       "      <td>-96.0</td>\n",
       "      <td>80</td>\n",
       "      <td>-999</td>\n",
       "      <td>POLYGON ((-725976.498 501059.296, -726217.261 ...</td>\n",
       "    </tr>\n",
       "    <tr>\n",
       "      <th>3</th>\n",
       "      <td>AL011851</td>\n",
       "      <td>UNNAMED</td>\n",
       "      <td>18510625</td>\n",
       "      <td>1800</td>\n",
       "      <td>NaN</td>\n",
       "      <td>NaN</td>\n",
       "      <td>HU</td>\n",
       "      <td>28.1</td>\n",
       "      <td>-96.5</td>\n",
       "      <td>80</td>\n",
       "      <td>-999</td>\n",
       "      <td>POLYGON ((-773687.14 516975.086, -773927.904 5...</td>\n",
       "    </tr>\n",
       "    <tr>\n",
       "      <th>4</th>\n",
       "      <td>AL011851</td>\n",
       "      <td>UNNAMED</td>\n",
       "      <td>18510625</td>\n",
       "      <td>2100</td>\n",
       "      <td>L</td>\n",
       "      <td>Landfall</td>\n",
       "      <td>HU</td>\n",
       "      <td>28.2</td>\n",
       "      <td>-96.8</td>\n",
       "      <td>80</td>\n",
       "      <td>-999</td>\n",
       "      <td>POLYGON ((-801800.629 531033.553, -802041.393 ...</td>\n",
       "    </tr>\n",
       "  </tbody>\n",
       "</table>\n",
       "</div>"
      ],
      "text/plain": [
       "   storm_id storm_name      date  time record_id event_label status  latitude  \\\n",
       "0  AL011851    UNNAMED  18510625     0       NaN         NaN     HU      28.0   \n",
       "1  AL011851    UNNAMED  18510625   600       NaN         NaN     HU      28.0   \n",
       "2  AL011851    UNNAMED  18510625  1200       NaN         NaN     HU      28.0   \n",
       "3  AL011851    UNNAMED  18510625  1800       NaN         NaN     HU      28.1   \n",
       "4  AL011851    UNNAMED  18510625  2100         L    Landfall     HU      28.2   \n",
       "\n",
       "   longitude  max_wind  min_pressure  \\\n",
       "0      -94.8        80          -999   \n",
       "1      -95.4        80          -999   \n",
       "2      -96.0        80          -999   \n",
       "3      -96.5        80          -999   \n",
       "4      -96.8        80          -999   \n",
       "\n",
       "                                            geometry  \n",
       "0  POLYGON ((-608696.456 490186.163, -608937.22 4...  \n",
       "1  POLYGON ((-667349.703 495480.069, -667590.467 ...  \n",
       "2  POLYGON ((-725976.498 501059.296, -726217.261 ...  \n",
       "3  POLYGON ((-773687.14 516975.086, -773927.904 5...  \n",
       "4  POLYGON ((-801800.629 531033.553, -802041.393 ...  "
      ]
     },
     "execution_count": 64,
     "metadata": {},
     "output_type": "execute_result"
    }
   ],
   "source": [
    "hurricane_gdf_projected.head()"
   ]
  },
  {
   "cell_type": "code",
   "execution_count": 70,
   "metadata": {},
   "outputs": [],
   "source": [
    "# Spatial join to calculate exposure\n",
    "facilities_projected = gpd.sjoin(\n",
    "    facilities_projected,\n",
    "    hurricane_gdf_projected[['geometry', 'storm_name']],\n",
    "    how='left',\n",
    "    predicate='intersects'\n",
    ")\n"
   ]
  },
  {
   "cell_type": "code",
   "execution_count": 59,
   "metadata": {},
   "outputs": [],
   "source": [
    "# Since the index represents facilities, group by the index\n",
    "facilities_projected['hurricane_exposure'] = facilities_projected.groupby(level=0)['storm_name'].transform('nunique').fillna(0)\n"
   ]
  },
  {
   "cell_type": "code",
   "execution_count": 71,
   "metadata": {},
   "outputs": [
    {
     "data": {
      "text/html": [
       "<div>\n",
       "<style scoped>\n",
       "    .dataframe tbody tr th:only-of-type {\n",
       "        vertical-align: middle;\n",
       "    }\n",
       "\n",
       "    .dataframe tbody tr th {\n",
       "        vertical-align: top;\n",
       "    }\n",
       "\n",
       "    .dataframe thead th {\n",
       "        text-align: right;\n",
       "    }\n",
       "</style>\n",
       "<table border=\"1\" class=\"dataframe\">\n",
       "  <thead>\n",
       "    <tr style=\"text-align: right;\">\n",
       "      <th></th>\n",
       "      <th>name</th>\n",
       "      <th>type</th>\n",
       "      <th>latitude</th>\n",
       "      <th>longitude</th>\n",
       "      <th>min_distance</th>\n",
       "      <th>risk_score</th>\n",
       "      <th>geometry</th>\n",
       "      <th>RPL_THEMES</th>\n",
       "      <th>distance_to_coast_m</th>\n",
       "      <th>distance_to_coast_km</th>\n",
       "      <th>storm_name_left</th>\n",
       "      <th>hurricane_exposure</th>\n",
       "      <th>index_right</th>\n",
       "      <th>storm_name_right</th>\n",
       "    </tr>\n",
       "  </thead>\n",
       "  <tbody>\n",
       "    <tr>\n",
       "      <th>0</th>\n",
       "      <td>CVS Pharmacy</td>\n",
       "      <td>pharmacy</td>\n",
       "      <td>27.948538</td>\n",
       "      <td>-82.458507</td>\n",
       "      <td>7.024852</td>\n",
       "      <td>0.124613</td>\n",
       "      <td>POINT (551369.498 439026.651)</td>\n",
       "      <td>NaN</td>\n",
       "      <td>0.0</td>\n",
       "      <td>0.0</td>\n",
       "      <td>UNNAMED</td>\n",
       "      <td>8</td>\n",
       "      <td>7106</td>\n",
       "      <td>UNNAMED</td>\n",
       "    </tr>\n",
       "    <tr>\n",
       "      <th>0</th>\n",
       "      <td>CVS Pharmacy</td>\n",
       "      <td>pharmacy</td>\n",
       "      <td>27.948538</td>\n",
       "      <td>-82.458507</td>\n",
       "      <td>7.024852</td>\n",
       "      <td>0.124613</td>\n",
       "      <td>POINT (551369.498 439026.651)</td>\n",
       "      <td>NaN</td>\n",
       "      <td>0.0</td>\n",
       "      <td>0.0</td>\n",
       "      <td>UNNAMED</td>\n",
       "      <td>8</td>\n",
       "      <td>631</td>\n",
       "      <td>UNNAMED</td>\n",
       "    </tr>\n",
       "    <tr>\n",
       "      <th>0</th>\n",
       "      <td>CVS Pharmacy</td>\n",
       "      <td>pharmacy</td>\n",
       "      <td>27.948538</td>\n",
       "      <td>-82.458507</td>\n",
       "      <td>7.024852</td>\n",
       "      <td>0.124613</td>\n",
       "      <td>POINT (551369.498 439026.651)</td>\n",
       "      <td>NaN</td>\n",
       "      <td>0.0</td>\n",
       "      <td>0.0</td>\n",
       "      <td>UNNAMED</td>\n",
       "      <td>8</td>\n",
       "      <td>804</td>\n",
       "      <td>UNNAMED</td>\n",
       "    </tr>\n",
       "    <tr>\n",
       "      <th>0</th>\n",
       "      <td>CVS Pharmacy</td>\n",
       "      <td>pharmacy</td>\n",
       "      <td>27.948538</td>\n",
       "      <td>-82.458507</td>\n",
       "      <td>7.024852</td>\n",
       "      <td>0.124613</td>\n",
       "      <td>POINT (551369.498 439026.651)</td>\n",
       "      <td>NaN</td>\n",
       "      <td>0.0</td>\n",
       "      <td>0.0</td>\n",
       "      <td>UNNAMED</td>\n",
       "      <td>8</td>\n",
       "      <td>29043</td>\n",
       "      <td>UNNAMED</td>\n",
       "    </tr>\n",
       "    <tr>\n",
       "      <th>0</th>\n",
       "      <td>CVS Pharmacy</td>\n",
       "      <td>pharmacy</td>\n",
       "      <td>27.948538</td>\n",
       "      <td>-82.458507</td>\n",
       "      <td>7.024852</td>\n",
       "      <td>0.124613</td>\n",
       "      <td>POINT (551369.498 439026.651)</td>\n",
       "      <td>NaN</td>\n",
       "      <td>0.0</td>\n",
       "      <td>0.0</td>\n",
       "      <td>UNNAMED</td>\n",
       "      <td>8</td>\n",
       "      <td>15719</td>\n",
       "      <td>UNNAMED</td>\n",
       "    </tr>\n",
       "    <tr>\n",
       "      <th>0</th>\n",
       "      <td>CVS Pharmacy</td>\n",
       "      <td>pharmacy</td>\n",
       "      <td>27.948538</td>\n",
       "      <td>-82.458507</td>\n",
       "      <td>7.024852</td>\n",
       "      <td>0.124613</td>\n",
       "      <td>POINT (551369.498 439026.651)</td>\n",
       "      <td>NaN</td>\n",
       "      <td>0.0</td>\n",
       "      <td>0.0</td>\n",
       "      <td>UNNAMED</td>\n",
       "      <td>8</td>\n",
       "      <td>29042</td>\n",
       "      <td>UNNAMED</td>\n",
       "    </tr>\n",
       "    <tr>\n",
       "      <th>0</th>\n",
       "      <td>CVS Pharmacy</td>\n",
       "      <td>pharmacy</td>\n",
       "      <td>27.948538</td>\n",
       "      <td>-82.458507</td>\n",
       "      <td>7.024852</td>\n",
       "      <td>0.124613</td>\n",
       "      <td>POINT (551369.498 439026.651)</td>\n",
       "      <td>NaN</td>\n",
       "      <td>0.0</td>\n",
       "      <td>0.0</td>\n",
       "      <td>UNNAMED</td>\n",
       "      <td>8</td>\n",
       "      <td>632</td>\n",
       "      <td>UNNAMED</td>\n",
       "    </tr>\n",
       "    <tr>\n",
       "      <th>0</th>\n",
       "      <td>CVS Pharmacy</td>\n",
       "      <td>pharmacy</td>\n",
       "      <td>27.948538</td>\n",
       "      <td>-82.458507</td>\n",
       "      <td>7.024852</td>\n",
       "      <td>0.124613</td>\n",
       "      <td>POINT (551369.498 439026.651)</td>\n",
       "      <td>NaN</td>\n",
       "      <td>0.0</td>\n",
       "      <td>0.0</td>\n",
       "      <td>UNNAMED</td>\n",
       "      <td>8</td>\n",
       "      <td>25857</td>\n",
       "      <td>FLORENCE</td>\n",
       "    </tr>\n",
       "    <tr>\n",
       "      <th>0</th>\n",
       "      <td>CVS Pharmacy</td>\n",
       "      <td>pharmacy</td>\n",
       "      <td>27.948538</td>\n",
       "      <td>-82.458507</td>\n",
       "      <td>7.024852</td>\n",
       "      <td>0.124613</td>\n",
       "      <td>POINT (551369.498 439026.651)</td>\n",
       "      <td>NaN</td>\n",
       "      <td>0.0</td>\n",
       "      <td>0.0</td>\n",
       "      <td>UNNAMED</td>\n",
       "      <td>8</td>\n",
       "      <td>2453</td>\n",
       "      <td>UNNAMED</td>\n",
       "    </tr>\n",
       "    <tr>\n",
       "      <th>0</th>\n",
       "      <td>CVS Pharmacy</td>\n",
       "      <td>pharmacy</td>\n",
       "      <td>27.948538</td>\n",
       "      <td>-82.458507</td>\n",
       "      <td>7.024852</td>\n",
       "      <td>0.124613</td>\n",
       "      <td>POINT (551369.498 439026.651)</td>\n",
       "      <td>NaN</td>\n",
       "      <td>0.0</td>\n",
       "      <td>0.0</td>\n",
       "      <td>UNNAMED</td>\n",
       "      <td>8</td>\n",
       "      <td>16013</td>\n",
       "      <td>UNNAMED</td>\n",
       "    </tr>\n",
       "  </tbody>\n",
       "</table>\n",
       "</div>"
      ],
      "text/plain": [
       "           name      type   latitude  longitude  min_distance  risk_score  \\\n",
       "0  CVS Pharmacy  pharmacy  27.948538 -82.458507      7.024852    0.124613   \n",
       "0  CVS Pharmacy  pharmacy  27.948538 -82.458507      7.024852    0.124613   \n",
       "0  CVS Pharmacy  pharmacy  27.948538 -82.458507      7.024852    0.124613   \n",
       "0  CVS Pharmacy  pharmacy  27.948538 -82.458507      7.024852    0.124613   \n",
       "0  CVS Pharmacy  pharmacy  27.948538 -82.458507      7.024852    0.124613   \n",
       "0  CVS Pharmacy  pharmacy  27.948538 -82.458507      7.024852    0.124613   \n",
       "0  CVS Pharmacy  pharmacy  27.948538 -82.458507      7.024852    0.124613   \n",
       "0  CVS Pharmacy  pharmacy  27.948538 -82.458507      7.024852    0.124613   \n",
       "0  CVS Pharmacy  pharmacy  27.948538 -82.458507      7.024852    0.124613   \n",
       "0  CVS Pharmacy  pharmacy  27.948538 -82.458507      7.024852    0.124613   \n",
       "\n",
       "                        geometry  RPL_THEMES  distance_to_coast_m  \\\n",
       "0  POINT (551369.498 439026.651)         NaN                  0.0   \n",
       "0  POINT (551369.498 439026.651)         NaN                  0.0   \n",
       "0  POINT (551369.498 439026.651)         NaN                  0.0   \n",
       "0  POINT (551369.498 439026.651)         NaN                  0.0   \n",
       "0  POINT (551369.498 439026.651)         NaN                  0.0   \n",
       "0  POINT (551369.498 439026.651)         NaN                  0.0   \n",
       "0  POINT (551369.498 439026.651)         NaN                  0.0   \n",
       "0  POINT (551369.498 439026.651)         NaN                  0.0   \n",
       "0  POINT (551369.498 439026.651)         NaN                  0.0   \n",
       "0  POINT (551369.498 439026.651)         NaN                  0.0   \n",
       "\n",
       "   distance_to_coast_km storm_name_left  hurricane_exposure  index_right  \\\n",
       "0                   0.0         UNNAMED                   8         7106   \n",
       "0                   0.0         UNNAMED                   8          631   \n",
       "0                   0.0         UNNAMED                   8          804   \n",
       "0                   0.0         UNNAMED                   8        29043   \n",
       "0                   0.0         UNNAMED                   8        15719   \n",
       "0                   0.0         UNNAMED                   8        29042   \n",
       "0                   0.0         UNNAMED                   8          632   \n",
       "0                   0.0         UNNAMED                   8        25857   \n",
       "0                   0.0         UNNAMED                   8         2453   \n",
       "0                   0.0         UNNAMED                   8        16013   \n",
       "\n",
       "  storm_name_right  \n",
       "0          UNNAMED  \n",
       "0          UNNAMED  \n",
       "0          UNNAMED  \n",
       "0          UNNAMED  \n",
       "0          UNNAMED  \n",
       "0          UNNAMED  \n",
       "0          UNNAMED  \n",
       "0         FLORENCE  \n",
       "0          UNNAMED  \n",
       "0          UNNAMED  "
      ]
     },
     "execution_count": 71,
     "metadata": {},
     "output_type": "execute_result"
    }
   ],
   "source": [
    "facilities_projected.head(10)"
   ]
  },
  {
   "cell_type": "code",
   "execution_count": 60,
   "metadata": {},
   "outputs": [],
   "source": [
    "# Prepare the final DataFrame\n",
    "model_df = facilities_projected.dropna(subset=['distance_to_coast_km', 'hurricane_exposure', 'RPL_THEMES', 'risk_score'])"
   ]
  },
  {
   "cell_type": "code",
   "execution_count": 61,
   "metadata": {},
   "outputs": [
    {
     "data": {
      "text/html": [
       "<div>\n",
       "<style scoped>\n",
       "    .dataframe tbody tr th:only-of-type {\n",
       "        vertical-align: middle;\n",
       "    }\n",
       "\n",
       "    .dataframe tbody tr th {\n",
       "        vertical-align: top;\n",
       "    }\n",
       "\n",
       "    .dataframe thead th {\n",
       "        text-align: right;\n",
       "    }\n",
       "</style>\n",
       "<table border=\"1\" class=\"dataframe\">\n",
       "  <thead>\n",
       "    <tr style=\"text-align: right;\">\n",
       "      <th></th>\n",
       "      <th>name</th>\n",
       "      <th>type</th>\n",
       "      <th>latitude</th>\n",
       "      <th>longitude</th>\n",
       "      <th>min_distance</th>\n",
       "      <th>risk_score</th>\n",
       "      <th>geometry</th>\n",
       "      <th>RPL_THEMES</th>\n",
       "      <th>distance_to_coast_m</th>\n",
       "      <th>distance_to_coast_km</th>\n",
       "      <th>index_right</th>\n",
       "      <th>storm_name</th>\n",
       "      <th>hurricane_exposure</th>\n",
       "    </tr>\n",
       "  </thead>\n",
       "  <tbody>\n",
       "  </tbody>\n",
       "</table>\n",
       "</div>"
      ],
      "text/plain": [
       "Empty GeoDataFrame\n",
       "Columns: [name, type, latitude, longitude, min_distance, risk_score, geometry, RPL_THEMES, distance_to_coast_m, distance_to_coast_km, index_right, storm_name, hurricane_exposure]\n",
       "Index: []"
      ]
     },
     "execution_count": 61,
     "metadata": {},
     "output_type": "execute_result"
    }
   ],
   "source": [
    "model_df.head()"
   ]
  },
  {
   "cell_type": "code",
   "execution_count": null,
   "metadata": {},
   "outputs": [],
   "source": [
    "# Define features and target\n",
    "features = ['distance_to_coast_km', 'hurricane_exposure', 'RPL_THEMES']\n",
    "X = model_df[features]\n",
    "y = model_df['risk_score']"
   ]
  },
  {
   "cell_type": "code",
   "execution_count": null,
   "metadata": {},
   "outputs": [],
   "source": [
    "from sklearn.model_selection import train_test_split\n",
    "\n",
    "X_train, X_test, y_train, y_test = train_test_split(X, y, test_size=0.2, random_state=42)\n"
   ]
  }
 ],
 "metadata": {
  "kernelspec": {
   "display_name": "Python 3",
   "language": "python",
   "name": "python3"
  },
  "language_info": {
   "codemirror_mode": {
    "name": "ipython",
    "version": 3
   },
   "file_extension": ".py",
   "mimetype": "text/x-python",
   "name": "python",
   "nbconvert_exporter": "python",
   "pygments_lexer": "ipython3",
   "version": "3.11.8"
  }
 },
 "nbformat": 4,
 "nbformat_minor": 2
}
