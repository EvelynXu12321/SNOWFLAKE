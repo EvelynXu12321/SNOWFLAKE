{
 "cells": [
  {
   "cell_type": "code",
   "execution_count": 1,
   "metadata": {},
   "outputs": [],
   "source": [
    "import pandas as pd\n",
    "import numpy as np\n",
    "from sklearn.metrics import pairwise_distances"
   ]
  },
  {
   "cell_type": "code",
   "execution_count": 2,
   "metadata": {},
   "outputs": [],
   "source": [
    "facilities_df = pd.read_csv('healthcare_facilities.csv')\n",
    "hurricane_df = pd.read_csv('HURDAT2_hurricane_data_with_events.csv')  "
   ]
  },
  {
   "cell_type": "code",
   "execution_count": 3,
   "metadata": {},
   "outputs": [
    {
     "name": "stdout",
     "output_type": "stream",
     "text": [
      "                       name          type   latitude  longitude\n",
      "0              CVS Pharmacy      pharmacy  27.948538 -82.458507\n",
      "1  Miami Lakes Fire Station  fire_station  25.924045 -80.308954\n",
      "2                  7-Eleven          fuel  27.981761 -82.452878\n",
      "3              CVS Pharmacy      pharmacy  28.546148 -81.204455\n",
      "4                 Walgreens      pharmacy  28.547299 -81.204692\n",
      "   storm_id storm_name      date  time record_id event_label status  latitude  \\\n",
      "0  AL011851    UNNAMED  18510625     0       NaN         NaN     HU      28.0   \n",
      "1  AL011851    UNNAMED  18510625   600       NaN         NaN     HU      28.0   \n",
      "2  AL011851    UNNAMED  18510625  1200       NaN         NaN     HU      28.0   \n",
      "3  AL011851    UNNAMED  18510625  1800       NaN         NaN     HU      28.1   \n",
      "4  AL011851    UNNAMED  18510625  2100         L    Landfall     HU      28.2   \n",
      "\n",
      "   longitude  max_wind  min_pressure  \n",
      "0      -94.8        80          -999  \n",
      "1      -95.4        80          -999  \n",
      "2      -96.0        80          -999  \n",
      "3      -96.5        80          -999  \n",
      "4      -96.8        80          -999  \n"
     ]
    }
   ],
   "source": [
    "print(facilities_df.head())\n",
    "print(hurricane_df.head())"
   ]
  },
  {
   "cell_type": "code",
   "execution_count": 4,
   "metadata": {},
   "outputs": [],
   "source": [
    "def haversine(lat1, lon1, lat2, lon2):\n",
    "    R = 6371  # Earth radius in kilometers\n",
    "    dlat = np.radians(lat2 - lat1)\n",
    "    dlon = np.radians(lon2 - lon1)\n",
    "    a = np.sin(dlat / 2) ** 2 + np.cos(np.radians(lat1)) * np.cos(np.radians(lat2)) * np.sin(dlon / 2) ** 2\n",
    "    c = 2 * np.arctan2(np.sqrt(a), np.sqrt(1 - a))\n",
    "    return R * c"
   ]
  },
  {
   "cell_type": "code",
   "execution_count": 6,
   "metadata": {},
   "outputs": [
    {
     "name": "stdout",
     "output_type": "stream",
     "text": [
      "Processed facilities 1-100 out of 3946\n",
      "Processed facilities 101-200 out of 3946\n",
      "Processed facilities 201-300 out of 3946\n",
      "Processed facilities 301-400 out of 3946\n",
      "Processed facilities 401-500 out of 3946\n",
      "Processed facilities 501-600 out of 3946\n",
      "Processed facilities 601-700 out of 3946\n",
      "Processed facilities 701-800 out of 3946\n",
      "Processed facilities 801-900 out of 3946\n",
      "Processed facilities 901-1000 out of 3946\n",
      "Processed facilities 1001-1100 out of 3946\n",
      "Processed facilities 1101-1200 out of 3946\n",
      "Processed facilities 1201-1300 out of 3946\n",
      "Processed facilities 1301-1400 out of 3946\n",
      "Processed facilities 1401-1500 out of 3946\n",
      "Processed facilities 1501-1600 out of 3946\n",
      "Processed facilities 1601-1700 out of 3946\n",
      "Processed facilities 1701-1800 out of 3946\n",
      "Processed facilities 1801-1900 out of 3946\n",
      "Processed facilities 1901-2000 out of 3946\n",
      "Processed facilities 2001-2100 out of 3946\n",
      "Processed facilities 2101-2200 out of 3946\n",
      "Processed facilities 2201-2300 out of 3946\n",
      "Processed facilities 2301-2400 out of 3946\n",
      "Processed facilities 2401-2500 out of 3946\n",
      "Processed facilities 2501-2600 out of 3946\n",
      "Processed facilities 2601-2700 out of 3946\n",
      "Processed facilities 2701-2800 out of 3946\n",
      "Processed facilities 2801-2900 out of 3946\n",
      "Processed facilities 2901-3000 out of 3946\n",
      "Processed facilities 3001-3100 out of 3946\n",
      "Processed facilities 3101-3200 out of 3946\n",
      "Processed facilities 3201-3300 out of 3946\n",
      "Processed facilities 3301-3400 out of 3946\n",
      "Processed facilities 3401-3500 out of 3946\n",
      "Processed facilities 3501-3600 out of 3946\n",
      "Processed facilities 3601-3700 out of 3946\n",
      "Processed facilities 3701-3800 out of 3946\n",
      "Processed facilities 3801-3900 out of 3946\n",
      "Processed facilities 3901-3946 out of 3946\n"
     ]
    }
   ],
   "source": [
    "import numpy as np\n",
    "\n",
    "# Extract coordinates\n",
    "facility_coords = facilities_df[['latitude', 'longitude']].values\n",
    "hurricane_coords = hurricane_df[['latitude', 'longitude']].values\n",
    "\n",
    "# Define batch size for progress tracking\n",
    "batch_size = 100  # Adjust batch size as needed\n",
    "num_batches = len(facility_coords) // batch_size + 1  # Total number of batches\n",
    "\n",
    "# Initialize array to store minimum distances\n",
    "min_distances = []\n",
    "\n",
    "# Process facilities in chunks\n",
    "for i in range(0, len(facility_coords), batch_size):\n",
    "    # Define the current batch\n",
    "    batch_end = min(i + batch_size, len(facility_coords))\n",
    "    current_batch = facility_coords[i:batch_end]\n",
    "\n",
    "    # Compute pairwise distances for the current batch\n",
    "    distances = pairwise_distances(current_batch, hurricane_coords, metric=lambda u, v: haversine(u[0], u[1], v[0], v[1]))\n",
    "\n",
    "    # Compute the minimum distance for each facility in the batch\n",
    "    batch_min_distances = distances.min(axis=1)\n",
    "    min_distances.extend(batch_min_distances)\n",
    "\n",
    "    # Print progress\n",
    "    print(f\"Processed facilities {i + 1}-{batch_end} out of {len(facility_coords)}\")\n",
    "\n",
    "# Convert to a NumPy array\n",
    "min_distances = np.array(min_distances)\n",
    "\n",
    "# Add distances and risk scores to the dataframe\n",
    "facilities_df['min_distance'] = min_distances\n",
    "facilities_df['risk_score'] = 1 / (min_distances + 1)  # Add 1 to avoid division by zero\n"
   ]
  },
  {
   "cell_type": "code",
   "execution_count": 7,
   "metadata": {},
   "outputs": [],
   "source": [
    "facilities_df.to_csv('facilities_with_risk_scores.csv', index=False)\n"
   ]
  },
  {
   "cell_type": "code",
   "execution_count": 8,
   "metadata": {},
   "outputs": [
    {
     "data": {
      "text/html": [
       "<div>\n",
       "<style scoped>\n",
       "    .dataframe tbody tr th:only-of-type {\n",
       "        vertical-align: middle;\n",
       "    }\n",
       "\n",
       "    .dataframe tbody tr th {\n",
       "        vertical-align: top;\n",
       "    }\n",
       "\n",
       "    .dataframe thead th {\n",
       "        text-align: right;\n",
       "    }\n",
       "</style>\n",
       "<table border=\"1\" class=\"dataframe\">\n",
       "  <thead>\n",
       "    <tr style=\"text-align: right;\">\n",
       "      <th></th>\n",
       "      <th>name</th>\n",
       "      <th>type</th>\n",
       "      <th>latitude</th>\n",
       "      <th>longitude</th>\n",
       "      <th>min_distance</th>\n",
       "      <th>risk_score</th>\n",
       "    </tr>\n",
       "  </thead>\n",
       "  <tbody>\n",
       "    <tr>\n",
       "      <th>0</th>\n",
       "      <td>CVS Pharmacy</td>\n",
       "      <td>pharmacy</td>\n",
       "      <td>27.948538</td>\n",
       "      <td>-82.458507</td>\n",
       "      <td>7.024852</td>\n",
       "      <td>0.124613</td>\n",
       "    </tr>\n",
       "    <tr>\n",
       "      <th>1</th>\n",
       "      <td>Miami Lakes Fire Station</td>\n",
       "      <td>fire_station</td>\n",
       "      <td>25.924045</td>\n",
       "      <td>-80.308954</td>\n",
       "      <td>2.819645</td>\n",
       "      <td>0.261804</td>\n",
       "    </tr>\n",
       "    <tr>\n",
       "      <th>2</th>\n",
       "      <td>7-Eleven</td>\n",
       "      <td>fuel</td>\n",
       "      <td>27.981761</td>\n",
       "      <td>-82.452878</td>\n",
       "      <td>5.051796</td>\n",
       "      <td>0.165240</td>\n",
       "    </tr>\n",
       "    <tr>\n",
       "      <th>3</th>\n",
       "      <td>CVS Pharmacy</td>\n",
       "      <td>pharmacy</td>\n",
       "      <td>28.546148</td>\n",
       "      <td>-81.204455</td>\n",
       "      <td>10.652014</td>\n",
       "      <td>0.085822</td>\n",
       "    </tr>\n",
       "    <tr>\n",
       "      <th>4</th>\n",
       "      <td>Walgreens</td>\n",
       "      <td>pharmacy</td>\n",
       "      <td>28.547299</td>\n",
       "      <td>-81.204692</td>\n",
       "      <td>10.694056</td>\n",
       "      <td>0.085514</td>\n",
       "    </tr>\n",
       "  </tbody>\n",
       "</table>\n",
       "</div>"
      ],
      "text/plain": [
       "                       name          type   latitude  longitude  min_distance  \\\n",
       "0              CVS Pharmacy      pharmacy  27.948538 -82.458507      7.024852   \n",
       "1  Miami Lakes Fire Station  fire_station  25.924045 -80.308954      2.819645   \n",
       "2                  7-Eleven          fuel  27.981761 -82.452878      5.051796   \n",
       "3              CVS Pharmacy      pharmacy  28.546148 -81.204455     10.652014   \n",
       "4                 Walgreens      pharmacy  28.547299 -81.204692     10.694056   \n",
       "\n",
       "   risk_score  \n",
       "0    0.124613  \n",
       "1    0.261804  \n",
       "2    0.165240  \n",
       "3    0.085822  \n",
       "4    0.085514  "
      ]
     },
     "execution_count": 8,
     "metadata": {},
     "output_type": "execute_result"
    }
   ],
   "source": [
    "facilities_df.head()"
   ]
  },
  {
   "cell_type": "code",
   "execution_count": null,
   "metadata": {},
   "outputs": [],
   "source": []
  }
 ],
 "metadata": {
  "kernelspec": {
   "display_name": "Python 3",
   "language": "python",
   "name": "python3"
  },
  "language_info": {
   "codemirror_mode": {
    "name": "ipython",
    "version": 3
   },
   "file_extension": ".py",
   "mimetype": "text/x-python",
   "name": "python",
   "nbconvert_exporter": "python",
   "pygments_lexer": "ipython3",
   "version": "3.11.8"
  }
 },
 "nbformat": 4,
 "nbformat_minor": 2
}
